{
 "cells": [
  {
   "cell_type": "markdown",
   "id": "0a0ca45e",
   "metadata": {
    "papermill": {
     "duration": 0.018022,
     "end_time": "2022-09-07T18:18:47.860931",
     "exception": false,
     "start_time": "2022-09-07T18:18:47.842909",
     "status": "completed"
    },
    "tags": []
   },
   "source": [
    "# NLP with Disaster Tweets using RNN Techniques\n",
    "*A machine learning process* \n",
    "\n",
    "### Overview\n",
    "Understanding human languages is a challenging task for computers because our language has many rules, words, and meanings. We are able to write or speak figuratively using descriptive words. In the online social media website *Twitter*, many people are able to announce disasters and emergencies faster and easier than the news outlets, law enforcement, and/or government communication sites. For this reason, it would be ideal if a computer could recognize those emergency posts and classify them such that disaster relief can come to aide and news agencies are able to spread the word faster. However, because humans often use words for multiple meanings, we need to be able to identify what tweets are real disasters or emergencies, and which are not. We will be using Recursive Neural Network (RNN) machine learning techniques to attempt to classify natual language text. For this project we will be evaluated on the F1 score, which is written in the competition description as $F1 = 2*\\frac{precision*recall}{precision+recall}$ where $precision = \\frac{TP}{TP+FP}$ and $recall=\\frac{TP}{TP+FN}$. \n",
    "\n",
    "This notebook will follow this layout, as per assignment guidelines:\n",
    "\n",
    "1. Brief Description of the Problem and Data\n",
    "2. Exploratory Data Analysis\n",
    "3. Model Architecure\n",
    "4. Results and Analysis\n",
    "5. Conclusion"
   ]
  },
  {
   "cell_type": "code",
   "execution_count": 1,
   "id": "0c40d736",
   "metadata": {
    "_kg_hide-input": false,
    "_kg_hide-output": true,
    "execution": {
     "iopub.execute_input": "2022-09-07T18:18:47.896948Z",
     "iopub.status.busy": "2022-09-07T18:18:47.896200Z",
     "iopub.status.idle": "2022-09-07T18:19:02.294333Z",
     "shell.execute_reply": "2022-09-07T18:19:02.293294Z"
    },
    "papermill": {
     "duration": 14.41922,
     "end_time": "2022-09-07T18:19:02.297180",
     "exception": false,
     "start_time": "2022-09-07T18:18:47.877960",
     "status": "completed"
    },
    "tags": []
   },
   "outputs": [
    {
     "name": "stdout",
     "output_type": "stream",
     "text": [
      "Collecting contractions\r\n",
      "  Downloading contractions-0.1.72-py2.py3-none-any.whl (8.3 kB)\r\n",
      "Collecting textsearch>=0.0.21\r\n",
      "  Downloading textsearch-0.0.24-py2.py3-none-any.whl (7.6 kB)\r\n",
      "Collecting anyascii\r\n",
      "  Downloading anyascii-0.3.1-py3-none-any.whl (287 kB)\r\n",
      "\u001b[2K     \u001b[90m━━━━━━━━━━━━━━━━━━━━━━━━━━━━━━━━━━━━━━━\u001b[0m \u001b[32m287.5/287.5 kB\u001b[0m \u001b[31m1.5 MB/s\u001b[0m eta \u001b[36m0:00:00\u001b[0m\r\n",
      "\u001b[?25hCollecting pyahocorasick\r\n",
      "  Downloading pyahocorasick-1.4.4-cp37-cp37m-manylinux_2_17_x86_64.manylinux2014_x86_64.whl (106 kB)\r\n",
      "\u001b[2K     \u001b[90m━━━━━━━━━━━━━━━━━━━━━━━━━━━━━━━━━━━━━━━\u001b[0m \u001b[32m106.5/106.5 kB\u001b[0m \u001b[31m5.6 MB/s\u001b[0m eta \u001b[36m0:00:00\u001b[0m\r\n",
      "\u001b[?25hInstalling collected packages: pyahocorasick, anyascii, textsearch, contractions\r\n",
      "Successfully installed anyascii-0.3.1 contractions-0.1.72 pyahocorasick-1.4.4 textsearch-0.0.24\r\n",
      "\u001b[33mWARNING: Running pip as the 'root' user can result in broken permissions and conflicting behaviour with the system package manager. It is recommended to use a virtual environment instead: https://pip.pypa.io/warnings/venv\u001b[0m\u001b[33m\r\n",
      "\u001b[0m"
     ]
    }
   ],
   "source": [
    "# install contractions if not already installed\n",
    "!pip install contractions"
   ]
  },
  {
   "cell_type": "code",
   "execution_count": 2,
   "id": "52bf9b9e",
   "metadata": {
    "_kg_hide-output": true,
    "execution": {
     "iopub.execute_input": "2022-09-07T18:19:02.335126Z",
     "iopub.status.busy": "2022-09-07T18:19:02.334697Z",
     "iopub.status.idle": "2022-09-07T18:19:12.262485Z",
     "shell.execute_reply": "2022-09-07T18:19:12.261095Z"
    },
    "papermill": {
     "duration": 9.949038,
     "end_time": "2022-09-07T18:19:12.265273",
     "exception": false,
     "start_time": "2022-09-07T18:19:02.316235",
     "status": "completed"
    },
    "tags": []
   },
   "outputs": [
    {
     "name": "stderr",
     "output_type": "stream",
     "text": [
      "[nltk_data] Downloading package omw-1.4 to /usr/share/nltk_data...\n"
     ]
    }
   ],
   "source": [
    "# import libraries\n",
    "import numpy as np\n",
    "import pandas as pd\n",
    "import random\n",
    "import os\n",
    "\n",
    "# visualizations\n",
    "import matplotlib.pyplot as plt\n",
    "import seaborn as sns\n",
    "sns.set_style(\"whitegrid\")\n",
    "\n",
    "#work with text\n",
    "import contractions\n",
    "import re\n",
    "import nltk\n",
    "from wordcloud import WordCloud\n",
    "from nltk.corpus import stopwords\n",
    "nltk.download('omw-1.4')\n",
    "from nltk.stem import WordNetLemmatizer\n",
    "from tensorflow import keras\n",
    "from tensorflow.keras.preprocessing.text import Tokenizer\n",
    "from tensorflow.keras.preprocessing.sequence import pad_sequences\n",
    "\n",
    "#create models\n",
    "from sklearn.model_selection import train_test_split\n",
    "import tensorflow as tf\n",
    "import tensorflow_addons as tfa\n",
    "from tensorflow.keras import optimizers\n",
    "from tensorflow.keras.models import Sequential\n",
    "from tensorflow.keras.layers import Dense, Embedding, LSTM, Dropout\n",
    "from tensorflow.keras.layers import Bidirectional, GRU\n",
    "from tensorflow.keras.callbacks import EarlyStopping\n",
    "\n",
    "#evaluation\n",
    "from sklearn.metrics import confusion_matrix, ConfusionMatrixDisplay\n",
    "from sklearn.metrics import precision_recall_fscore_support"
   ]
  },
  {
   "cell_type": "code",
   "execution_count": 3,
   "id": "d0af9aca",
   "metadata": {
    "execution": {
     "iopub.execute_input": "2022-09-07T18:19:12.302454Z",
     "iopub.status.busy": "2022-09-07T18:19:12.301491Z",
     "iopub.status.idle": "2022-09-07T18:19:12.388480Z",
     "shell.execute_reply": "2022-09-07T18:19:12.387059Z"
    },
    "papermill": {
     "duration": 0.109241,
     "end_time": "2022-09-07T18:19:12.391576",
     "exception": false,
     "start_time": "2022-09-07T18:19:12.282335",
     "status": "completed"
    },
    "tags": []
   },
   "outputs": [],
   "source": [
    "# get data\n",
    "train_df = pd.read_csv('../input/nlp-getting-started/train.csv')\n",
    "test_df = pd.read_csv('../input/nlp-getting-started/test.csv')\n",
    "sample_submission = pd.read_csv('../input/nlp-getting-started/sample_submission.csv')"
   ]
  },
  {
   "cell_type": "code",
   "execution_count": 4,
   "id": "28c4f5fc",
   "metadata": {
    "execution": {
     "iopub.execute_input": "2022-09-07T18:19:12.428909Z",
     "iopub.status.busy": "2022-09-07T18:19:12.428461Z",
     "iopub.status.idle": "2022-09-07T18:19:12.440500Z",
     "shell.execute_reply": "2022-09-07T18:19:12.439382Z"
    },
    "papermill": {
     "duration": 0.034293,
     "end_time": "2022-09-07T18:19:12.443233",
     "exception": false,
     "start_time": "2022-09-07T18:19:12.408940",
     "status": "completed"
    },
    "tags": []
   },
   "outputs": [],
   "source": [
    "# set global constants\n",
    "RANDOM_STATE = 49\n",
    "STOPWORDS = set(stopwords.words('english'))"
   ]
  },
  {
   "cell_type": "markdown",
   "id": "d6ab01a9",
   "metadata": {
    "papermill": {
     "duration": 0.018558,
     "end_time": "2022-09-07T18:19:12.481978",
     "exception": false,
     "start_time": "2022-09-07T18:19:12.463420",
     "status": "completed"
    },
    "tags": []
   },
   "source": [
    "# 1. Brief Description of the Problem and Data\n",
    "\n",
    "Once we load in the training data we are able to take a quick look at what we are given so that we have a better idea as to how to handle the data for processing and model training. Below, we can see this information. We notice we have 7613 entries (or rows) and five columns: id, keyword, location, text, target. The text column holds the tweet text which we will need to evaluate. We see that the text cells contain all sorts of characters such as lowercase letters, uppercase letters, numbers, punctuation, hastags (#), etc. We will work on fixing this later as well. Target is whether or not the text/tweet is a real disaster (1) or not (0). We are also given an id column which is simply the identifying number of that tweet. Lastly, we have keyword and location, which are both missing a good handful of their entries (which we will deal with in the preprocessing step). \n"
   ]
  },
  {
   "cell_type": "code",
   "execution_count": 5,
   "id": "95498548",
   "metadata": {
    "execution": {
     "iopub.execute_input": "2022-09-07T18:19:12.521235Z",
     "iopub.status.busy": "2022-09-07T18:19:12.520161Z",
     "iopub.status.idle": "2022-09-07T18:19:12.530357Z",
     "shell.execute_reply": "2022-09-07T18:19:12.529143Z"
    },
    "papermill": {
     "duration": 0.032536,
     "end_time": "2022-09-07T18:19:12.532802",
     "exception": false,
     "start_time": "2022-09-07T18:19:12.500266",
     "status": "completed"
    },
    "tags": []
   },
   "outputs": [
    {
     "data": {
      "text/plain": [
       "(7613, 5)"
      ]
     },
     "execution_count": 5,
     "metadata": {},
     "output_type": "execute_result"
    }
   ],
   "source": [
    "#show shape/dimensions of data\n",
    "train_df.shape"
   ]
  },
  {
   "cell_type": "code",
   "execution_count": 6,
   "id": "6bb3b543",
   "metadata": {
    "execution": {
     "iopub.execute_input": "2022-09-07T18:19:12.571465Z",
     "iopub.status.busy": "2022-09-07T18:19:12.570677Z",
     "iopub.status.idle": "2022-09-07T18:19:12.596740Z",
     "shell.execute_reply": "2022-09-07T18:19:12.595913Z"
    },
    "papermill": {
     "duration": 0.048391,
     "end_time": "2022-09-07T18:19:12.599377",
     "exception": false,
     "start_time": "2022-09-07T18:19:12.550986",
     "status": "completed"
    },
    "tags": []
   },
   "outputs": [
    {
     "data": {
      "text/html": [
       "<div>\n",
       "<style scoped>\n",
       "    .dataframe tbody tr th:only-of-type {\n",
       "        vertical-align: middle;\n",
       "    }\n",
       "\n",
       "    .dataframe tbody tr th {\n",
       "        vertical-align: top;\n",
       "    }\n",
       "\n",
       "    .dataframe thead th {\n",
       "        text-align: right;\n",
       "    }\n",
       "</style>\n",
       "<table border=\"1\" class=\"dataframe\">\n",
       "  <thead>\n",
       "    <tr style=\"text-align: right;\">\n",
       "      <th></th>\n",
       "      <th>id</th>\n",
       "      <th>keyword</th>\n",
       "      <th>location</th>\n",
       "      <th>text</th>\n",
       "      <th>target</th>\n",
       "    </tr>\n",
       "  </thead>\n",
       "  <tbody>\n",
       "    <tr>\n",
       "      <th>0</th>\n",
       "      <td>1</td>\n",
       "      <td>NaN</td>\n",
       "      <td>NaN</td>\n",
       "      <td>Our Deeds are the Reason of this #earthquake M...</td>\n",
       "      <td>1</td>\n",
       "    </tr>\n",
       "    <tr>\n",
       "      <th>1</th>\n",
       "      <td>4</td>\n",
       "      <td>NaN</td>\n",
       "      <td>NaN</td>\n",
       "      <td>Forest fire near La Ronge Sask. Canada</td>\n",
       "      <td>1</td>\n",
       "    </tr>\n",
       "    <tr>\n",
       "      <th>2</th>\n",
       "      <td>5</td>\n",
       "      <td>NaN</td>\n",
       "      <td>NaN</td>\n",
       "      <td>All residents asked to 'shelter in place' are ...</td>\n",
       "      <td>1</td>\n",
       "    </tr>\n",
       "    <tr>\n",
       "      <th>3</th>\n",
       "      <td>6</td>\n",
       "      <td>NaN</td>\n",
       "      <td>NaN</td>\n",
       "      <td>13,000 people receive #wildfires evacuation or...</td>\n",
       "      <td>1</td>\n",
       "    </tr>\n",
       "    <tr>\n",
       "      <th>4</th>\n",
       "      <td>7</td>\n",
       "      <td>NaN</td>\n",
       "      <td>NaN</td>\n",
       "      <td>Just got sent this photo from Ruby #Alaska as ...</td>\n",
       "      <td>1</td>\n",
       "    </tr>\n",
       "    <tr>\n",
       "      <th>...</th>\n",
       "      <td>...</td>\n",
       "      <td>...</td>\n",
       "      <td>...</td>\n",
       "      <td>...</td>\n",
       "      <td>...</td>\n",
       "    </tr>\n",
       "    <tr>\n",
       "      <th>7598</th>\n",
       "      <td>10853</td>\n",
       "      <td>NaN</td>\n",
       "      <td>NaN</td>\n",
       "      <td>Father-of-three Lost Control of Car After Over...</td>\n",
       "      <td>1</td>\n",
       "    </tr>\n",
       "    <tr>\n",
       "      <th>7599</th>\n",
       "      <td>10854</td>\n",
       "      <td>NaN</td>\n",
       "      <td>NaN</td>\n",
       "      <td>1.3 #Earthquake in 9Km Ssw Of Anza California ...</td>\n",
       "      <td>1</td>\n",
       "    </tr>\n",
       "    <tr>\n",
       "      <th>7600</th>\n",
       "      <td>10855</td>\n",
       "      <td>NaN</td>\n",
       "      <td>NaN</td>\n",
       "      <td>Evacuation order lifted for town of Roosevelt:...</td>\n",
       "      <td>1</td>\n",
       "    </tr>\n",
       "    <tr>\n",
       "      <th>7601</th>\n",
       "      <td>10859</td>\n",
       "      <td>NaN</td>\n",
       "      <td>NaN</td>\n",
       "      <td>#breaking #LA Refugio oil spill may have been ...</td>\n",
       "      <td>1</td>\n",
       "    </tr>\n",
       "    <tr>\n",
       "      <th>7602</th>\n",
       "      <td>10860</td>\n",
       "      <td>NaN</td>\n",
       "      <td>NaN</td>\n",
       "      <td>a siren just went off and it wasn't the Forney...</td>\n",
       "      <td>1</td>\n",
       "    </tr>\n",
       "  </tbody>\n",
       "</table>\n",
       "<p>7603 rows × 5 columns</p>\n",
       "</div>"
      ],
      "text/plain": [
       "         id keyword location  \\\n",
       "0         1     NaN      NaN   \n",
       "1         4     NaN      NaN   \n",
       "2         5     NaN      NaN   \n",
       "3         6     NaN      NaN   \n",
       "4         7     NaN      NaN   \n",
       "...     ...     ...      ...   \n",
       "7598  10853     NaN      NaN   \n",
       "7599  10854     NaN      NaN   \n",
       "7600  10855     NaN      NaN   \n",
       "7601  10859     NaN      NaN   \n",
       "7602  10860     NaN      NaN   \n",
       "\n",
       "                                                   text  target  \n",
       "0     Our Deeds are the Reason of this #earthquake M...       1  \n",
       "1                Forest fire near La Ronge Sask. Canada       1  \n",
       "2     All residents asked to 'shelter in place' are ...       1  \n",
       "3     13,000 people receive #wildfires evacuation or...       1  \n",
       "4     Just got sent this photo from Ruby #Alaska as ...       1  \n",
       "...                                                 ...     ...  \n",
       "7598  Father-of-three Lost Control of Car After Over...       1  \n",
       "7599  1.3 #Earthquake in 9Km Ssw Of Anza California ...       1  \n",
       "7600  Evacuation order lifted for town of Roosevelt:...       1  \n",
       "7601  #breaking #LA Refugio oil spill may have been ...       1  \n",
       "7602  a siren just went off and it wasn't the Forney...       1  \n",
       "\n",
       "[7603 rows x 5 columns]"
      ]
     },
     "execution_count": 6,
     "metadata": {},
     "output_type": "execute_result"
    }
   ],
   "source": [
    "# quick look at training data\n",
    "train_df.head(-10)"
   ]
  },
  {
   "cell_type": "markdown",
   "id": "a3e988bb",
   "metadata": {
    "papermill": {
     "duration": 0.018448,
     "end_time": "2022-09-07T18:19:12.636667",
     "exception": false,
     "start_time": "2022-09-07T18:19:12.618219",
     "status": "completed"
    },
    "tags": []
   },
   "source": [
    "We can below in two examples that a person may be able to easily identify which texts are real and which are not, however by looking at the examples we can see how a computer may get confused. For example, the first tweet below makes it pretty obvious there is an emergency however the second one is not as obvious that it is not an emergency; \"heard a really loud bang\" could be something serious such as an explosion or car crash, or it could not be urgent such as the wind or a cat knocking something over. Although it is difficult without more context (such as more information or a picture) we can begin to see why a computer may struggle to identify these differences. "
   ]
  },
  {
   "cell_type": "code",
   "execution_count": 7,
   "id": "aed77f49",
   "metadata": {
    "_kg_hide-input": true,
    "execution": {
     "iopub.execute_input": "2022-09-07T18:19:12.677166Z",
     "iopub.status.busy": "2022-09-07T18:19:12.676725Z",
     "iopub.status.idle": "2022-09-07T18:19:12.686911Z",
     "shell.execute_reply": "2022-09-07T18:19:12.685620Z"
    },
    "jupyter": {
     "source_hidden": true
    },
    "papermill": {
     "duration": 0.035233,
     "end_time": "2022-09-07T18:19:12.691358",
     "exception": false,
     "start_time": "2022-09-07T18:19:12.656125",
     "status": "completed"
    },
    "tags": []
   },
   "outputs": [
    {
     "name": "stdout",
     "output_type": "stream",
     "text": [
      "Text Example 1: All residents asked to 'shelter in place' are being notified by officers. No other evacuation or shelter in place orders are expected ==> TARGET: 1\n",
      "\n",
      "\n",
      "Text Example 2: I just heard a really loud bang and everyone is asleep great ==> TARGET: 0\n"
     ]
    }
   ],
   "source": [
    "print(f'Text Example 1: {train_df[\"text\"][2]} ==> TARGET: {train_df[\"target\"][2]}')\n",
    "print('\\n')\n",
    "print(f'Text Example 2: {train_df[\"text\"][7593]} ==> TARGET: {train_df[\"target\"][7593]}')"
   ]
  },
  {
   "cell_type": "code",
   "execution_count": 8,
   "id": "014214e1",
   "metadata": {
    "execution": {
     "iopub.execute_input": "2022-09-07T18:19:12.733175Z",
     "iopub.status.busy": "2022-09-07T18:19:12.732311Z",
     "iopub.status.idle": "2022-09-07T18:19:12.758793Z",
     "shell.execute_reply": "2022-09-07T18:19:12.757325Z"
    },
    "papermill": {
     "duration": 0.04973,
     "end_time": "2022-09-07T18:19:12.761545",
     "exception": false,
     "start_time": "2022-09-07T18:19:12.711815",
     "status": "completed"
    },
    "tags": []
   },
   "outputs": [
    {
     "data": {
      "text/html": [
       "<div>\n",
       "<style scoped>\n",
       "    .dataframe tbody tr th:only-of-type {\n",
       "        vertical-align: middle;\n",
       "    }\n",
       "\n",
       "    .dataframe tbody tr th {\n",
       "        vertical-align: top;\n",
       "    }\n",
       "\n",
       "    .dataframe thead th {\n",
       "        text-align: right;\n",
       "    }\n",
       "</style>\n",
       "<table border=\"1\" class=\"dataframe\">\n",
       "  <thead>\n",
       "    <tr style=\"text-align: right;\">\n",
       "      <th></th>\n",
       "      <th>id</th>\n",
       "      <th>target</th>\n",
       "    </tr>\n",
       "  </thead>\n",
       "  <tbody>\n",
       "    <tr>\n",
       "      <th>count</th>\n",
       "      <td>7613.000000</td>\n",
       "      <td>7613.00000</td>\n",
       "    </tr>\n",
       "    <tr>\n",
       "      <th>mean</th>\n",
       "      <td>5441.934848</td>\n",
       "      <td>0.42966</td>\n",
       "    </tr>\n",
       "    <tr>\n",
       "      <th>std</th>\n",
       "      <td>3137.116090</td>\n",
       "      <td>0.49506</td>\n",
       "    </tr>\n",
       "    <tr>\n",
       "      <th>min</th>\n",
       "      <td>1.000000</td>\n",
       "      <td>0.00000</td>\n",
       "    </tr>\n",
       "    <tr>\n",
       "      <th>25%</th>\n",
       "      <td>2734.000000</td>\n",
       "      <td>0.00000</td>\n",
       "    </tr>\n",
       "    <tr>\n",
       "      <th>50%</th>\n",
       "      <td>5408.000000</td>\n",
       "      <td>0.00000</td>\n",
       "    </tr>\n",
       "    <tr>\n",
       "      <th>75%</th>\n",
       "      <td>8146.000000</td>\n",
       "      <td>1.00000</td>\n",
       "    </tr>\n",
       "    <tr>\n",
       "      <th>max</th>\n",
       "      <td>10873.000000</td>\n",
       "      <td>1.00000</td>\n",
       "    </tr>\n",
       "  </tbody>\n",
       "</table>\n",
       "</div>"
      ],
      "text/plain": [
       "                 id      target\n",
       "count   7613.000000  7613.00000\n",
       "mean    5441.934848     0.42966\n",
       "std     3137.116090     0.49506\n",
       "min        1.000000     0.00000\n",
       "25%     2734.000000     0.00000\n",
       "50%     5408.000000     0.00000\n",
       "75%     8146.000000     1.00000\n",
       "max    10873.000000     1.00000"
      ]
     },
     "execution_count": 8,
     "metadata": {},
     "output_type": "execute_result"
    }
   ],
   "source": [
    "# describe data\n",
    "train_df.describe()"
   ]
  },
  {
   "cell_type": "code",
   "execution_count": 9,
   "id": "e19d783a",
   "metadata": {
    "execution": {
     "iopub.execute_input": "2022-09-07T18:19:12.800314Z",
     "iopub.status.busy": "2022-09-07T18:19:12.799551Z",
     "iopub.status.idle": "2022-09-07T18:19:12.819197Z",
     "shell.execute_reply": "2022-09-07T18:19:12.817632Z"
    },
    "papermill": {
     "duration": 0.042496,
     "end_time": "2022-09-07T18:19:12.822052",
     "exception": false,
     "start_time": "2022-09-07T18:19:12.779556",
     "status": "completed"
    },
    "tags": []
   },
   "outputs": [
    {
     "name": "stdout",
     "output_type": "stream",
     "text": [
      "<class 'pandas.core.frame.DataFrame'>\n",
      "RangeIndex: 7613 entries, 0 to 7612\n",
      "Data columns (total 5 columns):\n",
      " #   Column    Non-Null Count  Dtype \n",
      "---  ------    --------------  ----- \n",
      " 0   id        7613 non-null   int64 \n",
      " 1   keyword   7552 non-null   object\n",
      " 2   location  5080 non-null   object\n",
      " 3   text      7613 non-null   object\n",
      " 4   target    7613 non-null   int64 \n",
      "dtypes: int64(2), object(3)\n",
      "memory usage: 297.5+ KB\n"
     ]
    }
   ],
   "source": [
    "# info data\n",
    "train_df.info()"
   ]
  },
  {
   "cell_type": "markdown",
   "id": "d787bbce",
   "metadata": {
    "papermill": {
     "duration": 0.017584,
     "end_time": "2022-09-07T18:19:12.858040",
     "exception": false,
     "start_time": "2022-09-07T18:19:12.840456",
     "status": "completed"
    },
    "tags": []
   },
   "source": [
    "# 2. Exploratory Data Analysis (EDA) - Inspect, Visualize and Clean the Data\n",
    "\n",
    "First, it is important to note from above that we are not missing any values from the text adn target columns. This will make it easier when preprocessing the data for the model. Below we can visualize the data to get a better understanding of it. \n",
    "\n",
    "First we see that the location column is missing about 33% of its values. Because of this, we will simply delete this column."
   ]
  },
  {
   "cell_type": "code",
   "execution_count": 10,
   "id": "b893bc32",
   "metadata": {
    "_kg_hide-input": true,
    "execution": {
     "iopub.execute_input": "2022-09-07T18:19:12.897392Z",
     "iopub.status.busy": "2022-09-07T18:19:12.896530Z",
     "iopub.status.idle": "2022-09-07T18:19:13.216876Z",
     "shell.execute_reply": "2022-09-07T18:19:13.215237Z"
    },
    "jupyter": {
     "source_hidden": true
    },
    "papermill": {
     "duration": 0.343625,
     "end_time": "2022-09-07T18:19:13.219944",
     "exception": false,
     "start_time": "2022-09-07T18:19:12.876319",
     "status": "completed"
    },
    "tags": []
   },
   "outputs": [
    {
     "data": {
      "image/png": "[encoded data removed]",
      "text/plain": [
       "<Figure size 1080x216 with 1 Axes>"
      ]
     },
     "metadata": {},
     "output_type": "display_data"
    }
   ],
   "source": [
    "percentages_missing = train_df.isnull().sum() * 100 / len(train_df)\n",
    "\n",
    "plt.figure(figsize=(15, 3))\n",
    "sns.barplot(x=list(percentages_missing), \n",
    "            y=list(percentages_missing.index), \n",
    "            palette='colorblind').set(title='Missing Values', \n",
    "                                     xlabel='Percentage', \n",
    "                                     xlim=(0,50),\n",
    "                                     xticks=range(0,55, 5))\n",
    "plt.show();"
   ]
  },
  {
   "cell_type": "code",
   "execution_count": 11,
   "id": "1be418e2",
   "metadata": {
    "execution": {
     "iopub.execute_input": "2022-09-07T18:19:13.260794Z",
     "iopub.status.busy": "2022-09-07T18:19:13.260063Z",
     "iopub.status.idle": "2022-09-07T18:19:13.267637Z",
     "shell.execute_reply": "2022-09-07T18:19:13.266431Z"
    },
    "papermill": {
     "duration": 0.031189,
     "end_time": "2022-09-07T18:19:13.270438",
     "exception": false,
     "start_time": "2022-09-07T18:19:13.239249",
     "status": "completed"
    },
    "tags": []
   },
   "outputs": [],
   "source": [
    "# remove 'location' column\n",
    "train_df = train_df.drop('location', axis=1)"
   ]
  },
  {
   "cell_type": "markdown",
   "id": "998d2de8",
   "metadata": {
    "papermill": {
     "duration": 0.01814,
     "end_time": "2022-09-07T18:19:13.307712",
     "exception": false,
     "start_time": "2022-09-07T18:19:13.289572",
     "status": "completed"
    },
    "tags": []
   },
   "source": [
    "Below we can see that our dataset is unbalanced because it has ~1000 more fake disaster tweets than it does real emergency tweets. Although there is this imbalance, we should still be able to create a fairly good model using the data available. "
   ]
  },
  {
   "cell_type": "code",
   "execution_count": 12,
   "id": "9efacb04",
   "metadata": {
    "_kg_hide-input": true,
    "execution": {
     "iopub.execute_input": "2022-09-07T18:19:13.347603Z",
     "iopub.status.busy": "2022-09-07T18:19:13.346748Z",
     "iopub.status.idle": "2022-09-07T18:19:13.553330Z",
     "shell.execute_reply": "2022-09-07T18:19:13.551899Z"
    },
    "jupyter": {
     "source_hidden": true
    },
    "papermill": {
     "duration": 0.230211,
     "end_time": "2022-09-07T18:19:13.556426",
     "exception": false,
     "start_time": "2022-09-07T18:19:13.326215",
     "status": "completed"
    },
    "tags": []
   },
   "outputs": [
    {
     "data": {
      "image/png": "[encoded data removed]",
      "text/plain": [
       "<Figure size 432x288 with 1 Axes>"
      ]
     },
     "metadata": {},
     "output_type": "display_data"
    }
   ],
   "source": [
    "# visualize targets\n",
    "sns.countplot(data=train_df, x='target').set(title='Counts per Target Value');"
   ]
  },
  {
   "cell_type": "markdown",
   "id": "b3062f06",
   "metadata": {
    "papermill": {
     "duration": 0.021171,
     "end_time": "2022-09-07T18:19:13.598653",
     "exception": false,
     "start_time": "2022-09-07T18:19:13.577482",
     "status": "completed"
    },
    "tags": []
   },
   "source": [
    "Let's take a look at the most common keywords in the 'keyword' column. "
   ]
  },
  {
   "cell_type": "code",
   "execution_count": 13,
   "id": "77d47f71",
   "metadata": {
    "_kg_hide-input": false,
    "execution": {
     "iopub.execute_input": "2022-09-07T18:19:13.641689Z",
     "iopub.status.busy": "2022-09-07T18:19:13.640542Z",
     "iopub.status.idle": "2022-09-07T18:19:13.649483Z",
     "shell.execute_reply": "2022-09-07T18:19:13.648668Z"
    },
    "papermill": {
     "duration": 0.03356,
     "end_time": "2022-09-07T18:19:13.651956",
     "exception": false,
     "start_time": "2022-09-07T18:19:13.618396",
     "status": "completed"
    },
    "tags": []
   },
   "outputs": [],
   "source": [
    "# create two dataframes, one for real emergencies and one for fake emergencies\n",
    "fake_df = train_df[train_df['target']==0]\n",
    "real_df = train_df[train_df['target']==1]"
   ]
  },
  {
   "cell_type": "code",
   "execution_count": 14,
   "id": "402a8106",
   "metadata": {
    "_kg_hide-input": true,
    "execution": {
     "iopub.execute_input": "2022-09-07T18:19:13.693108Z",
     "iopub.status.busy": "2022-09-07T18:19:13.692604Z",
     "iopub.status.idle": "2022-09-07T18:19:13.704250Z",
     "shell.execute_reply": "2022-09-07T18:19:13.702511Z"
    },
    "jupyter": {
     "source_hidden": true
    },
    "papermill": {
     "duration": 0.035445,
     "end_time": "2022-09-07T18:19:13.707242",
     "exception": false,
     "start_time": "2022-09-07T18:19:13.671797",
     "status": "completed"
    },
    "tags": []
   },
   "outputs": [
    {
     "name": "stdout",
     "output_type": "stream",
     "text": [
      "** Most Common Keywords for FAKE Tweets **\n"
     ]
    },
    {
     "data": {
      "text/plain": [
       "body%20bags    40\n",
       "harm           37\n",
       "armageddon     37\n",
       "wrecked        36\n",
       "ruin           36\n",
       "deluge         36\n",
       "explode        35\n",
       "twister        35\n",
       "fear           35\n",
       "siren          35\n",
       "aftershock     34\n",
       "panic          34\n",
       "screaming      34\n",
       "blizzard       33\n",
       "blazing        33\n",
       "blaze          33\n",
       "crush          33\n",
       "sinking        33\n",
       "traumatised    33\n",
       "curfew         32\n",
       "Name: keyword, dtype: int64"
      ]
     },
     "execution_count": 14,
     "metadata": {},
     "output_type": "execute_result"
    }
   ],
   "source": [
    "print(\"** Most Common Keywords for FAKE Tweets **\")\n",
    "fake_df['keyword'].value_counts()[:20]"
   ]
  },
  {
   "cell_type": "code",
   "execution_count": 15,
   "id": "2461afdf",
   "metadata": {
    "_kg_hide-input": true,
    "execution": {
     "iopub.execute_input": "2022-09-07T18:19:13.751760Z",
     "iopub.status.busy": "2022-09-07T18:19:13.750648Z",
     "iopub.status.idle": "2022-09-07T18:19:13.764158Z",
     "shell.execute_reply": "2022-09-07T18:19:13.762167Z"
    },
    "jupyter": {
     "source_hidden": true
    },
    "papermill": {
     "duration": 0.038504,
     "end_time": "2022-09-07T18:19:13.767701",
     "exception": false,
     "start_time": "2022-09-07T18:19:13.729197",
     "status": "completed"
    },
    "tags": []
   },
   "outputs": [
    {
     "name": "stdout",
     "output_type": "stream",
     "text": [
      "** Most Common Keywords for REAL Tweets **\n"
     ]
    },
    {
     "data": {
      "text/plain": [
       "derailment               39\n",
       "wreckage                 39\n",
       "outbreak                 39\n",
       "debris                   37\n",
       "oil%20spill              37\n",
       "typhoon                  37\n",
       "evacuated                32\n",
       "suicide%20bombing        32\n",
       "rescuers                 32\n",
       "suicide%20bomb           32\n",
       "nuclear%20disaster       31\n",
       "razed                    31\n",
       "suicide%20bomber         30\n",
       "earthquake               30\n",
       "airplane%20accident      30\n",
       "collision                29\n",
       "wildfire                 29\n",
       "bridge%20collapse        29\n",
       "evacuation               28\n",
       "buildings%20on%20fire    28\n",
       "Name: keyword, dtype: int64"
      ]
     },
     "execution_count": 15,
     "metadata": {},
     "output_type": "execute_result"
    }
   ],
   "source": [
    "print(\"** Most Common Keywords for REAL Tweets **\")\n",
    "real_df['keyword'].value_counts()[:20]"
   ]
  },
  {
   "cell_type": "markdown",
   "id": "2e7df612",
   "metadata": {
    "papermill": {
     "duration": 0.02004,
     "end_time": "2022-09-07T18:19:13.808943",
     "exception": false,
     "start_time": "2022-09-07T18:19:13.788903",
     "status": "completed"
    },
    "tags": []
   },
   "source": [
    "Although we can look at each of these and get a good idea of what is common and what is not in the keywords column, we also can visualize them in a plot. Below, we can see the top twenty most frequent keywords out of both fake and real tweets. "
   ]
  },
  {
   "cell_type": "code",
   "execution_count": 16,
   "id": "2239f1ff",
   "metadata": {
    "_kg_hide-input": true,
    "execution": {
     "iopub.execute_input": "2022-09-07T18:19:13.854694Z",
     "iopub.status.busy": "2022-09-07T18:19:13.853453Z",
     "iopub.status.idle": "2022-09-07T18:19:14.283744Z",
     "shell.execute_reply": "2022-09-07T18:19:14.282554Z"
    },
    "jupyter": {
     "source_hidden": true
    },
    "papermill": {
     "duration": 0.45611,
     "end_time": "2022-09-07T18:19:14.286354",
     "exception": false,
     "start_time": "2022-09-07T18:19:13.830244",
     "status": "completed"
    },
    "tags": []
   },
   "outputs": [
    {
     "data": {
      "image/png": "[encoded data removed]",
      "text/plain": [
       "<Figure size 720x720 with 1 Axes>"
      ]
     },
     "metadata": {},
     "output_type": "display_data"
    }
   ],
   "source": [
    "#plot distribution of top 20 keywords\n",
    "plt.figure(figsize=[10, 10])\n",
    "\n",
    "sns.countplot(y='keyword', \n",
    "              data=train_df,\n",
    "              order=train_df['keyword'].value_counts()[:20].index,\n",
    "              hue='target',\n",
    "              palette=['steelblue', 'darkorange']).set(title='Distribution of Top 20 Keywords', \n",
    "                                                      ylabel='Keywords')\n",
    "plt.xticks(rotation=90)\n",
    "plt.legend(loc='upper right')\n",
    "plt.show();"
   ]
  },
  {
   "cell_type": "markdown",
   "id": "ea46d27f",
   "metadata": {
    "papermill": {
     "duration": 0.019249,
     "end_time": "2022-09-07T18:19:14.325326",
     "exception": false,
     "start_time": "2022-09-07T18:19:14.306077",
     "status": "completed"
    },
    "tags": []
   },
   "source": [
    "### **Data Preprocessing**\n",
    "\n",
    "Since the data is text from a social media site, we see a lot of URLs, HTMLs, @s, %20, and hashtags (#). We will remove the URLS, HTMLS and @ mentions so that we are working with more finite information pertaining directly to the text. We will not remove the %20 and #s as they hold important information. The %20 seem to be the keywords and hashtags are often used to call attention to a word on the Twitter site. For this reason, we will remove the symbols (%20 and #) but not the words connected to them. We will also remove punctuation so that we can focus soley on the words. We will however, count the amount of punctuation prior to removing the symbols, which could come in handy later when training the model. \n",
    "\n",
    "The following helper functions were inspired by royn5618 and can be found at https://www.kaggle.com/code/nabanitaroy/eda-and-tf-idf-prediction-model-with-80-accuracy. (remove urls, remove htmls, remove @ and #, count and remove punctuation) \n",
    "\n",
    "We will apply the following to our dataframe and text column:\n",
    "1. Delete ‘location column’\n",
    "2. Remove URLs, HTMLs, and tags\n",
    "3. Count the number of punctuations present and delete them\n",
    "4. Lowercase all words\n",
    "5. Lemmatize words\n",
    "6. Declare if numbers appear and delete them\n",
    "7. Tokenize text"
   ]
  },
  {
   "cell_type": "code",
   "execution_count": 17,
   "id": "5be002fa",
   "metadata": {
    "execution": {
     "iopub.execute_input": "2022-09-07T18:19:14.367751Z",
     "iopub.status.busy": "2022-09-07T18:19:14.366401Z",
     "iopub.status.idle": "2022-09-07T18:19:14.374437Z",
     "shell.execute_reply": "2022-09-07T18:19:14.373530Z"
    },
    "papermill": {
     "duration": 0.032557,
     "end_time": "2022-09-07T18:19:14.377491",
     "exception": false,
     "start_time": "2022-09-07T18:19:14.344934",
     "status": "completed"
    },
    "tags": []
   },
   "outputs": [],
   "source": [
    "# remove urls\n",
    "def remove_urls(text):\n",
    "    url_pattern = r'(www.|http[s]?://)(?:[a-zA-Z]|[0-9]|[$-_@.&+]|[!*\\(\\),]|(?:%[0-9a-fA-F][0-9a-fA-F]))+'\n",
    "    return re.sub(url_pattern, '', text)\n",
    "\n",
    "# remove hmtmls\n",
    "def remove_html(text):\n",
    "    html_entities = r'<.*?>|&([a-z0-9]+|#[0-9]{1,6}|#x[0-9a-f]{1,6});'\n",
    "    return re.sub(html_entities, '', text)\n",
    "\n",
    "# remove @ and #\n",
    "def remove_tags(text):\n",
    "    tag_pattern = r'@([a-z0-9]+)|#'\n",
    "    return re.sub(tag_pattern, '', text)\n",
    "\n",
    "# count punctuation\n",
    "def count_punctuation(text):\n",
    "    getpunctuation = re.findall('[.?\"\\'`\\,\\-\\!:;\\(\\)\\[\\]\\\\/“”]+?', text)\n",
    "    return len(getpunctuation)\n",
    "\n",
    "# put all words in lowercase\n",
    "def lower_case(text):\n",
    "    return text.lower()"
   ]
  },
  {
   "cell_type": "code",
   "execution_count": 18,
   "id": "c424ca34",
   "metadata": {
    "execution": {
     "iopub.execute_input": "2022-09-07T18:19:14.423300Z",
     "iopub.status.busy": "2022-09-07T18:19:14.421179Z",
     "iopub.status.idle": "2022-09-07T18:19:14.430567Z",
     "shell.execute_reply": "2022-09-07T18:19:14.429109Z"
    },
    "papermill": {
     "duration": 0.034476,
     "end_time": "2022-09-07T18:19:14.433222",
     "exception": false,
     "start_time": "2022-09-07T18:19:14.398746",
     "status": "completed"
    },
    "tags": []
   },
   "outputs": [],
   "source": [
    "# clean and lemmatize words \n",
    "def preprocess_text(x):\n",
    "    cleaned_text = re.sub(r'[^a-zA-Z\\d\\s]+', '', x)\n",
    "    word_list = []\n",
    "    for each_word in cleaned_text.split(' '):\n",
    "        word_list.append(contractions.fix(each_word).lower())\n",
    "    word_list = [\n",
    "        WordNetLemmatizer().lemmatize(each_word.strip()) for each_word in word_list\n",
    "        if each_word not in STOPWORDS and each_word.strip() != ''\n",
    "    ]\n",
    "    return \" \".join(word_list)"
   ]
  },
  {
   "cell_type": "code",
   "execution_count": 19,
   "id": "71defe26",
   "metadata": {
    "execution": {
     "iopub.execute_input": "2022-09-07T18:19:14.474882Z",
     "iopub.status.busy": "2022-09-07T18:19:14.474451Z",
     "iopub.status.idle": "2022-09-07T18:19:17.520751Z",
     "shell.execute_reply": "2022-09-07T18:19:17.519510Z"
    },
    "papermill": {
     "duration": 3.069883,
     "end_time": "2022-09-07T18:19:17.523706",
     "exception": false,
     "start_time": "2022-09-07T18:19:14.453823",
     "status": "completed"
    },
    "tags": []
   },
   "outputs": [],
   "source": [
    "# apply to training data\n",
    "functions = [remove_urls, remove_html, remove_tags, count_punctuation, lower_case, preprocess_text]\n",
    "for func in functions: \n",
    "    if func == count_punctuation:\n",
    "        train_df['punctuation_count'] = train_df['text'].apply(func)\n",
    "    else:\n",
    "        train_df['text'] = train_df['text'].apply(func) "
   ]
  },
  {
   "cell_type": "markdown",
   "id": "37c96244",
   "metadata": {
    "papermill": {
     "duration": 0.02823,
     "end_time": "2022-09-07T18:19:17.574108",
     "exception": false,
     "start_time": "2022-09-07T18:19:17.545878",
     "status": "completed"
    },
    "tags": []
   },
   "source": [
    "In the chart below we can see that how real emergency and fake emergency tweets differ when it comes to using punctuation in the post."
   ]
  },
  {
   "cell_type": "code",
   "execution_count": 20,
   "id": "f35a06eb",
   "metadata": {
    "_kg_hide-input": true,
    "execution": {
     "iopub.execute_input": "2022-09-07T18:19:17.617436Z",
     "iopub.status.busy": "2022-09-07T18:19:17.617022Z",
     "iopub.status.idle": "2022-09-07T18:19:18.091111Z",
     "shell.execute_reply": "2022-09-07T18:19:18.089951Z"
    },
    "papermill": {
     "duration": 0.49933,
     "end_time": "2022-09-07T18:19:18.094097",
     "exception": false,
     "start_time": "2022-09-07T18:19:17.594767",
     "status": "completed"
    },
    "tags": []
   },
   "outputs": [
    {
     "data": {
      "image/png": "[encoded data removed]",
      "text/plain": [
       "<Figure size 1080x360 with 1 Axes>"
      ]
     },
     "metadata": {},
     "output_type": "display_data"
    }
   ],
   "source": [
    "# visualize punctuation counts\n",
    "plt.figure(figsize=(15, 5))\n",
    "\n",
    "sns.countplot(x='punctuation_count', \n",
    "             data = train_df, \n",
    "             hue='target').set(title='Punctuation Counts', \n",
    "                              xlabel='Number of Punctuations in Tweet', \n",
    "                              ylabel='Number of Tweets')\n",
    "plt.legend(loc='upper right')\n",
    "plt.show();"
   ]
  },
  {
   "cell_type": "markdown",
   "id": "e7bb2d07",
   "metadata": {
    "papermill": {
     "duration": 0.019621,
     "end_time": "2022-09-07T18:19:18.134561",
     "exception": false,
     "start_time": "2022-09-07T18:19:18.114940",
     "status": "completed"
    },
    "tags": []
   },
   "source": [
    "Something else we can see in the data is that many tweets have numbers. First let's see how many tweets have numbers and if they tend more towards real or fake emergencies. "
   ]
  },
  {
   "cell_type": "code",
   "execution_count": 21,
   "id": "5954154f",
   "metadata": {
    "execution": {
     "iopub.execute_input": "2022-09-07T18:19:18.177388Z",
     "iopub.status.busy": "2022-09-07T18:19:18.176656Z",
     "iopub.status.idle": "2022-09-07T18:19:18.181625Z",
     "shell.execute_reply": "2022-09-07T18:19:18.180689Z"
    },
    "papermill": {
     "duration": 0.029719,
     "end_time": "2022-09-07T18:19:18.184258",
     "exception": false,
     "start_time": "2022-09-07T18:19:18.154539",
     "status": "completed"
    },
    "tags": []
   },
   "outputs": [],
   "source": [
    "# label if has numbers or not\n",
    "def get_numbers(text):\n",
    "    if re.findall(r'\\d+', text): \n",
    "        return 1 \n",
    "    else:\n",
    "        return 0"
   ]
  },
  {
   "cell_type": "code",
   "execution_count": 22,
   "id": "bc265a0b",
   "metadata": {
    "execution": {
     "iopub.execute_input": "2022-09-07T18:19:18.227077Z",
     "iopub.status.busy": "2022-09-07T18:19:18.226573Z",
     "iopub.status.idle": "2022-09-07T18:19:18.254713Z",
     "shell.execute_reply": "2022-09-07T18:19:18.253795Z"
    },
    "papermill": {
     "duration": 0.052985,
     "end_time": "2022-09-07T18:19:18.257368",
     "exception": false,
     "start_time": "2022-09-07T18:19:18.204383",
     "status": "completed"
    },
    "tags": []
   },
   "outputs": [],
   "source": [
    "# create column with numbers \n",
    "train_df['numbers'] = train_df['text'].apply(get_numbers)"
   ]
  },
  {
   "cell_type": "code",
   "execution_count": 23,
   "id": "56b60c53",
   "metadata": {
    "execution": {
     "iopub.execute_input": "2022-09-07T18:19:18.299913Z",
     "iopub.status.busy": "2022-09-07T18:19:18.299190Z",
     "iopub.status.idle": "2022-09-07T18:19:18.303899Z",
     "shell.execute_reply": "2022-09-07T18:19:18.303058Z"
    },
    "papermill": {
     "duration": 0.028933,
     "end_time": "2022-09-07T18:19:18.306348",
     "exception": false,
     "start_time": "2022-09-07T18:19:18.277415",
     "status": "completed"
    },
    "tags": []
   },
   "outputs": [],
   "source": [
    "# remove digits from text\n",
    "def remove_digits(text):\n",
    "    return re.sub(r'[0-9]+', '', text)"
   ]
  },
  {
   "cell_type": "code",
   "execution_count": 24,
   "id": "73ee6a1e",
   "metadata": {
    "execution": {
     "iopub.execute_input": "2022-09-07T18:19:18.349495Z",
     "iopub.status.busy": "2022-09-07T18:19:18.348753Z",
     "iopub.status.idle": "2022-09-07T18:19:18.376302Z",
     "shell.execute_reply": "2022-09-07T18:19:18.375380Z"
    },
    "papermill": {
     "duration": 0.051803,
     "end_time": "2022-09-07T18:19:18.378913",
     "exception": false,
     "start_time": "2022-09-07T18:19:18.327110",
     "status": "completed"
    },
    "tags": []
   },
   "outputs": [],
   "source": [
    "# apply remove digits\n",
    "train_df['text'] = train_df['text'].apply(remove_digits)"
   ]
  },
  {
   "cell_type": "markdown",
   "id": "7505e090",
   "metadata": {
    "papermill": {
     "duration": 0.021412,
     "end_time": "2022-09-07T18:19:18.420317",
     "exception": false,
     "start_time": "2022-09-07T18:19:18.398905",
     "status": "completed"
    },
    "tags": []
   },
   "source": [
    "Below we see that about half the the tweets that are real emergencies have numbers, while more than half of the fake tweets have numbers. Below we can take one more look at the final dataframe before begining model building and training."
   ]
  },
  {
   "cell_type": "code",
   "execution_count": 25,
   "id": "7b041f92",
   "metadata": {
    "_kg_hide-input": true,
    "execution": {
     "iopub.execute_input": "2022-09-07T18:19:18.465612Z",
     "iopub.status.busy": "2022-09-07T18:19:18.464905Z",
     "iopub.status.idle": "2022-09-07T18:19:18.633408Z",
     "shell.execute_reply": "2022-09-07T18:19:18.632131Z"
    },
    "jupyter": {
     "source_hidden": true
    },
    "papermill": {
     "duration": 0.195708,
     "end_time": "2022-09-07T18:19:18.636714",
     "exception": false,
     "start_time": "2022-09-07T18:19:18.441006",
     "status": "completed"
    },
    "tags": []
   },
   "outputs": [
    {
     "data": {
      "image/png": "[encoded data removed]",
      "text/plain": [
       "<Figure size 432x288 with 1 Axes>"
      ]
     },
     "metadata": {},
     "output_type": "display_data"
    }
   ],
   "source": [
    "# visualize if numbers were present\n",
    "sns.countplot(x='target', \n",
    "             data=train_df, \n",
    "             hue='numbers',\n",
    "             palette=['dimgrey','green']).set(title='Evaluating if Numbers Exist in Tweet', \n",
    "                               xlabel = 'Target', \n",
    "                               ylabel = 'Count') \n",
    "plt.legend(labels=['Absent', 'Present'])\n",
    "plt.xticks(labels=['Fake (0)', 'Real (1)'], ticks=[0, 1])\n",
    "plt.show();"
   ]
  },
  {
   "cell_type": "code",
   "execution_count": 26,
   "id": "c0be6b60",
   "metadata": {
    "execution": {
     "iopub.execute_input": "2022-09-07T18:19:18.679651Z",
     "iopub.status.busy": "2022-09-07T18:19:18.678946Z",
     "iopub.status.idle": "2022-09-07T18:19:19.204629Z",
     "shell.execute_reply": "2022-09-07T18:19:19.203355Z"
    },
    "papermill": {
     "duration": 0.550177,
     "end_time": "2022-09-07T18:19:19.207290",
     "exception": false,
     "start_time": "2022-09-07T18:19:18.657113",
     "status": "completed"
    },
    "tags": []
   },
   "outputs": [],
   "source": [
    "# tokenize \n",
    "MAX_FEATURES = 3000\n",
    "tokenizer = Tokenizer(num_words=MAX_FEATURES, split=' ')\n",
    "tokenizer.fit_on_texts(train_df['text'].values)\n",
    "\n",
    "token_X = tokenizer.texts_to_sequences(train_df['text'].values)\n",
    "token_X = pad_sequences(token_X)"
   ]
  },
  {
   "cell_type": "code",
   "execution_count": 27,
   "id": "8ffed1b4",
   "metadata": {
    "execution": {
     "iopub.execute_input": "2022-09-07T18:19:19.249360Z",
     "iopub.status.busy": "2022-09-07T18:19:19.248971Z",
     "iopub.status.idle": "2022-09-07T18:19:19.265184Z",
     "shell.execute_reply": "2022-09-07T18:19:19.263950Z"
    },
    "papermill": {
     "duration": 0.040389,
     "end_time": "2022-09-07T18:19:19.267772",
     "exception": false,
     "start_time": "2022-09-07T18:19:19.227383",
     "status": "completed"
    },
    "tags": []
   },
   "outputs": [],
   "source": [
    "token_X.shape\n",
    "token_df = pd.DataFrame(token_X)\n",
    "for col_id in range(token_X.shape[1]):\n",
    "    train_df[str(col_id)] = token_df[col_id]"
   ]
  },
  {
   "cell_type": "code",
   "execution_count": 28,
   "id": "b7ebfca9",
   "metadata": {
    "_kg_hide-input": true,
    "execution": {
     "iopub.execute_input": "2022-09-07T18:19:19.311088Z",
     "iopub.status.busy": "2022-09-07T18:19:19.310263Z",
     "iopub.status.idle": "2022-09-07T18:19:19.335806Z",
     "shell.execute_reply": "2022-09-07T18:19:19.334551Z"
    },
    "papermill": {
     "duration": 0.050486,
     "end_time": "2022-09-07T18:19:19.338574",
     "exception": false,
     "start_time": "2022-09-07T18:19:19.288088",
     "status": "completed"
    },
    "tags": []
   },
   "outputs": [
    {
     "data": {
      "text/html": [
       "<div>\n",
       "<style scoped>\n",
       "    .dataframe tbody tr th:only-of-type {\n",
       "        vertical-align: middle;\n",
       "    }\n",
       "\n",
       "    .dataframe tbody tr th {\n",
       "        vertical-align: top;\n",
       "    }\n",
       "\n",
       "    .dataframe thead th {\n",
       "        text-align: right;\n",
       "    }\n",
       "</style>\n",
       "<table border=\"1\" class=\"dataframe\">\n",
       "  <thead>\n",
       "    <tr style=\"text-align: right;\">\n",
       "      <th></th>\n",
       "      <th>id</th>\n",
       "      <th>target</th>\n",
       "      <th>punctuation_count</th>\n",
       "      <th>numbers</th>\n",
       "      <th>0</th>\n",
       "      <th>1</th>\n",
       "      <th>2</th>\n",
       "      <th>3</th>\n",
       "      <th>4</th>\n",
       "      <th>5</th>\n",
       "      <th>...</th>\n",
       "      <th>12</th>\n",
       "      <th>13</th>\n",
       "      <th>14</th>\n",
       "      <th>15</th>\n",
       "      <th>16</th>\n",
       "      <th>17</th>\n",
       "      <th>18</th>\n",
       "      <th>19</th>\n",
       "      <th>20</th>\n",
       "      <th>21</th>\n",
       "    </tr>\n",
       "  </thead>\n",
       "  <tbody>\n",
       "    <tr>\n",
       "      <th>0</th>\n",
       "      <td>1</td>\n",
       "      <td>1</td>\n",
       "      <td>0</td>\n",
       "      <td>0</td>\n",
       "      <td>0</td>\n",
       "      <td>0</td>\n",
       "      <td>0</td>\n",
       "      <td>0</td>\n",
       "      <td>0</td>\n",
       "      <td>0</td>\n",
       "      <td>...</td>\n",
       "      <td>0</td>\n",
       "      <td>0</td>\n",
       "      <td>0</td>\n",
       "      <td>0</td>\n",
       "      <td>0</td>\n",
       "      <td>457</td>\n",
       "      <td>161</td>\n",
       "      <td>77</td>\n",
       "      <td>1394</td>\n",
       "      <td>16</td>\n",
       "    </tr>\n",
       "    <tr>\n",
       "      <th>1</th>\n",
       "      <td>4</td>\n",
       "      <td>1</td>\n",
       "      <td>1</td>\n",
       "      <td>0</td>\n",
       "      <td>0</td>\n",
       "      <td>0</td>\n",
       "      <td>0</td>\n",
       "      <td>0</td>\n",
       "      <td>0</td>\n",
       "      <td>0</td>\n",
       "      <td>...</td>\n",
       "      <td>0</td>\n",
       "      <td>0</td>\n",
       "      <td>0</td>\n",
       "      <td>0</td>\n",
       "      <td>0</td>\n",
       "      <td>112</td>\n",
       "      <td>3</td>\n",
       "      <td>153</td>\n",
       "      <td>485</td>\n",
       "      <td>1068</td>\n",
       "    </tr>\n",
       "    <tr>\n",
       "      <th>2</th>\n",
       "      <td>5</td>\n",
       "      <td>1</td>\n",
       "      <td>3</td>\n",
       "      <td>0</td>\n",
       "      <td>0</td>\n",
       "      <td>0</td>\n",
       "      <td>0</td>\n",
       "      <td>0</td>\n",
       "      <td>0</td>\n",
       "      <td>0</td>\n",
       "      <td>...</td>\n",
       "      <td>1524</td>\n",
       "      <td>1395</td>\n",
       "      <td>1869</td>\n",
       "      <td>458</td>\n",
       "      <td>324</td>\n",
       "      <td>167</td>\n",
       "      <td>1869</td>\n",
       "      <td>458</td>\n",
       "      <td>373</td>\n",
       "      <td>953</td>\n",
       "    </tr>\n",
       "    <tr>\n",
       "      <th>3</th>\n",
       "      <td>6</td>\n",
       "      <td>1</td>\n",
       "      <td>1</td>\n",
       "      <td>1</td>\n",
       "      <td>0</td>\n",
       "      <td>0</td>\n",
       "      <td>0</td>\n",
       "      <td>0</td>\n",
       "      <td>0</td>\n",
       "      <td>0</td>\n",
       "      <td>...</td>\n",
       "      <td>0</td>\n",
       "      <td>0</td>\n",
       "      <td>0</td>\n",
       "      <td>0</td>\n",
       "      <td>0</td>\n",
       "      <td>10</td>\n",
       "      <td>85</td>\n",
       "      <td>167</td>\n",
       "      <td>373</td>\n",
       "      <td>39</td>\n",
       "    </tr>\n",
       "    <tr>\n",
       "      <th>4</th>\n",
       "      <td>7</td>\n",
       "      <td>1</td>\n",
       "      <td>0</td>\n",
       "      <td>0</td>\n",
       "      <td>0</td>\n",
       "      <td>0</td>\n",
       "      <td>0</td>\n",
       "      <td>0</td>\n",
       "      <td>0</td>\n",
       "      <td>0</td>\n",
       "      <td>...</td>\n",
       "      <td>0</td>\n",
       "      <td>0</td>\n",
       "      <td>0</td>\n",
       "      <td>36</td>\n",
       "      <td>1069</td>\n",
       "      <td>117</td>\n",
       "      <td>1525</td>\n",
       "      <td>193</td>\n",
       "      <td>85</td>\n",
       "      <td>103</td>\n",
       "    </tr>\n",
       "  </tbody>\n",
       "</table>\n",
       "<p>5 rows × 26 columns</p>\n",
       "</div>"
      ],
      "text/plain": [
       "   id  target  punctuation_count  numbers  0  1  2  3  4  5  ...    12    13  \\\n",
       "0   1       1                  0        0  0  0  0  0  0  0  ...     0     0   \n",
       "1   4       1                  1        0  0  0  0  0  0  0  ...     0     0   \n",
       "2   5       1                  3        0  0  0  0  0  0  0  ...  1524  1395   \n",
       "3   6       1                  1        1  0  0  0  0  0  0  ...     0     0   \n",
       "4   7       1                  0        0  0  0  0  0  0  0  ...     0     0   \n",
       "\n",
       "     14   15    16   17    18   19    20    21  \n",
       "0     0    0     0  457   161   77  1394    16  \n",
       "1     0    0     0  112     3  153   485  1068  \n",
       "2  1869  458   324  167  1869  458   373   953  \n",
       "3     0    0     0   10    85  167   373    39  \n",
       "4     0   36  1069  117  1525  193    85   103  \n",
       "\n",
       "[5 rows x 26 columns]"
      ]
     },
     "execution_count": 28,
     "metadata": {},
     "output_type": "execute_result"
    }
   ],
   "source": [
    "# final look at data before starting model\n",
    "train_df = train_df.drop('text', axis=1)\n",
    "train_df = train_df.drop('keyword', axis=1)\n",
    "\n",
    "train_df.head()"
   ]
  },
  {
   "cell_type": "markdown",
   "id": "28c14c62",
   "metadata": {
    "papermill": {
     "duration": 0.02047,
     "end_time": "2022-09-07T18:19:19.379826",
     "exception": false,
     "start_time": "2022-09-07T18:19:19.359356",
     "status": "completed"
    },
    "tags": []
   },
   "source": [
    "# 3. Model Architecure\n",
    "\n",
    "Great! Our training data is all ready to go for the models. We will first split the data into training and validation sets before training.\n",
    "\n",
    "For this project we decided to do two RNN models: LSTM and GRU. Both models are very simple to show how training a RNN model does not have to be complex. In fact LSTM and GRU models are similar in build as when building other neural networks, especially using Tensorflow Keras frameworks. \n",
    "\n",
    "\n",
    "Our LSTM model will have a Dropout and LSTM layer in its network. The GRU model will have an Bidirectional GRU layer. Both models will have an Embedding layer and Dense layer. For consistency, the output layers will have a sigmoid activation function, with an Adam loss function and a learning rate of 0.0001. During training, we will measure accuracy, loss, precision, and recall. \n",
    "\n",
    "\n",
    "1. **LSTM** --> Long-Short Term Memory models are a type of Recurrent Neural Network (RNN) which has specific gates to process the data. You can find more [here](https://towardsdatascience.com/lstm-recurrent-neural-networks-how-to-teach-a-network-to-remember-the-past-55e54c2ff22e) and/or [here](http://https://www.analyticsvidhya.com/blog/2021/03/introduction-to-long-short-term-memory-lstm/) which are great introductory resources into the mechancis of LSTM. \n",
    "\n",
    "\n",
    "\n",
    "2. **GRU** --> Gated Recurrent Unit (GRU) is another great RNN model to test with text data. Generally, GRUs perform better than LSTM models and can be faster. You can find more information about GRU models [here](https://towardsdatascience.com/understanding-gru-networks-2ef37df6c9be) and/or [here](https://www.analyticsvidhya.com/blog/2021/03/introduction-to-gated-recurrent-unit-gru/). \n"
   ]
  },
  {
   "cell_type": "code",
   "execution_count": 29,
   "id": "e24996cf",
   "metadata": {
    "execution": {
     "iopub.execute_input": "2022-09-07T18:19:19.423103Z",
     "iopub.status.busy": "2022-09-07T18:19:19.422694Z",
     "iopub.status.idle": "2022-09-07T18:19:19.432549Z",
     "shell.execute_reply": "2022-09-07T18:19:19.431525Z"
    },
    "papermill": {
     "duration": 0.034544,
     "end_time": "2022-09-07T18:19:19.435041",
     "exception": false,
     "start_time": "2022-09-07T18:19:19.400497",
     "status": "completed"
    },
    "tags": []
   },
   "outputs": [],
   "source": [
    "# split data 80/20 training-validation\n",
    "y = train_df['target']\n",
    "X_train, X_valid, y_train, y_valid = train_test_split(train_df.loc[:, train_df.columns != 'id'], \n",
    "                                                      y, \n",
    "                                                      test_size=0.20, \n",
    "                                                      random_state=RANDOM_STATE)"
   ]
  },
  {
   "cell_type": "code",
   "execution_count": 30,
   "id": "4064d0b9",
   "metadata": {
    "execution": {
     "iopub.execute_input": "2022-09-07T18:19:19.478626Z",
     "iopub.status.busy": "2022-09-07T18:19:19.478223Z",
     "iopub.status.idle": "2022-09-07T18:19:19.491772Z",
     "shell.execute_reply": "2022-09-07T18:19:19.490919Z"
    },
    "papermill": {
     "duration": 0.038028,
     "end_time": "2022-09-07T18:19:19.494261",
     "exception": false,
     "start_time": "2022-09-07T18:19:19.456233",
     "status": "completed"
    },
    "tags": []
   },
   "outputs": [],
   "source": [
    "# Setup GPU accelerator - configure Strategy. Assume TPU...if not set default for GPU/CPU\n",
    "tpu = None\n",
    "try:\n",
    "    tpu = tf.distribute.cluster_resolver.TPUClusterResolver()\n",
    "    tf.config.experimental_connect_to_cluster(tpu)\n",
    "    tf.tpu.experimental.initialize_tpu_system(tpu)\n",
    "    strategy = tf.distribute.TPUStrategy(tpu)\n",
    "except ValueError:\n",
    "    strategy = tf.distribute.get_strategy()"
   ]
  },
  {
   "cell_type": "markdown",
   "id": "245e867e",
   "metadata": {
    "papermill": {
     "duration": 0.020661,
     "end_time": "2022-09-07T18:19:19.536209",
     "exception": false,
     "start_time": "2022-09-07T18:19:19.515548",
     "status": "completed"
    },
    "tags": []
   },
   "source": [
    "### **LSTM MODEL** "
   ]
  },
  {
   "cell_type": "code",
   "execution_count": 31,
   "id": "d6d966c7",
   "metadata": {
    "_kg_hide-input": true,
    "execution": {
     "iopub.execute_input": "2022-09-07T18:19:19.580102Z",
     "iopub.status.busy": "2022-09-07T18:19:19.579379Z",
     "iopub.status.idle": "2022-09-07T18:19:19.892475Z",
     "shell.execute_reply": "2022-09-07T18:19:19.891289Z"
    },
    "papermill": {
     "duration": 0.338041,
     "end_time": "2022-09-07T18:19:19.895398",
     "exception": false,
     "start_time": "2022-09-07T18:19:19.557357",
     "status": "completed"
    },
    "tags": []
   },
   "outputs": [
    {
     "name": "stderr",
     "output_type": "stream",
     "text": [
      "2022-09-07 18:19:19.613429: I tensorflow/core/common_runtime/process_util.cc:146] Creating new thread pool with default inter op setting: 2. Tune using inter_op_parallelism_threads for best performance.\n"
     ]
    },
    {
     "name": "stdout",
     "output_type": "stream",
     "text": [
      "Model: \"sequential\"\n",
      "_________________________________________________________________\n",
      "Layer (type)                 Output Shape              Param #   \n",
      "=================================================================\n",
      "embedding (Embedding)        (None, 22, 22)            66000     \n",
      "_________________________________________________________________\n",
      "dropout (Dropout)            (None, 22, 22)            0         \n",
      "_________________________________________________________________\n",
      "lstm (LSTM)                  (None, 22)                3960      \n",
      "_________________________________________________________________\n",
      "dense (Dense)                (None, 1)                 23        \n",
      "=================================================================\n",
      "Total params: 69,983\n",
      "Trainable params: 69,983\n",
      "Non-trainable params: 0\n",
      "_________________________________________________________________\n"
     ]
    }
   ],
   "source": [
    "#declare metrics for analysis during training\n",
    "recall = tf.keras.metrics.Recall()\n",
    "precision = tf.keras.metrics.Precision()\n",
    "\n",
    "with strategy.scope():\n",
    "# first model - LSTM\n",
    "    model_LSTM = Sequential()\n",
    "    model_LSTM.add(Embedding(input_dim=MAX_FEATURES,\n",
    "                             output_dim=22, \n",
    "                             input_length=token_X.shape[1]))\n",
    "    model_LSTM.add(Dropout(0.1))\n",
    "    model_LSTM.add(LSTM(22, \n",
    "                        dropout=0.1, \n",
    "                        recurrent_dropout=0.25))\n",
    "    model_LSTM.add(Dense(1, \n",
    "                         activation='sigmoid'))\n",
    "    adam_optimizer = optimizers.Adam(learning_rate=0.0001)\n",
    "    model_LSTM.compile(loss='binary_crossentropy', \n",
    "                       optimizer=adam_optimizer, \n",
    "                       metrics=['accuracy', recall, precision])\n",
    "    model_LSTM.summary()"
   ]
  },
  {
   "cell_type": "code",
   "execution_count": 32,
   "id": "54e3a601",
   "metadata": {
    "execution": {
     "iopub.execute_input": "2022-09-07T18:19:19.939781Z",
     "iopub.status.busy": "2022-09-07T18:19:19.938658Z",
     "iopub.status.idle": "2022-09-07T18:20:46.357363Z",
     "shell.execute_reply": "2022-09-07T18:20:46.355968Z"
    },
    "papermill": {
     "duration": 86.443397,
     "end_time": "2022-09-07T18:20:46.360085",
     "exception": false,
     "start_time": "2022-09-07T18:19:19.916688",
     "status": "completed"
    },
    "tags": []
   },
   "outputs": [
    {
     "name": "stdout",
     "output_type": "stream",
     "text": [
      "Epoch 1/8\n"
     ]
    },
    {
     "name": "stderr",
     "output_type": "stream",
     "text": [
      "2022-09-07 18:19:20.012709: I tensorflow/compiler/mlir/mlir_graph_optimization_pass.cc:185] None of the MLIR Optimization Passes are enabled (registered 2)\n"
     ]
    },
    {
     "name": "stdout",
     "output_type": "stream",
     "text": [
      "191/191 [==============================] - 14s 47ms/step - loss: 0.6855 - accuracy: 0.5764 - recall: 0.0116 - precision: 0.4688 - val_loss: 0.6833 - val_accuracy: 0.5437 - val_recall: 0.0000e+00 - val_precision: 0.0000e+00\n",
      "Epoch 2/8\n",
      "191/191 [==============================] - 8s 41ms/step - loss: 0.6682 - accuracy: 0.5770 - recall: 0.0000e+00 - precision: 0.0000e+00 - val_loss: 0.6735 - val_accuracy: 0.5437 - val_recall: 0.0000e+00 - val_precision: 0.0000e+00\n",
      "Epoch 3/8\n",
      "191/191 [==============================] - 8s 42ms/step - loss: 0.6304 - accuracy: 0.5910 - recall: 0.0334 - precision: 0.9885 - val_loss: 0.5498 - val_accuracy: 0.6710 - val_recall: 0.2906 - val_precision: 0.9619\n",
      "Epoch 4/8\n",
      "191/191 [==============================] - 9s 46ms/step - loss: 0.3802 - accuracy: 0.8453 - recall: 0.8024 - precision: 0.8268 - val_loss: 0.2716 - val_accuracy: 0.9376 - val_recall: 1.0000 - val_precision: 0.8797\n",
      "Epoch 5/8\n",
      "191/191 [==============================] - 8s 41ms/step - loss: 0.2608 - accuracy: 0.9103 - recall: 0.9422 - precision: 0.8594 - val_loss: 0.1491 - val_accuracy: 0.9698 - val_recall: 1.0000 - val_precision: 0.9379\n",
      "Epoch 6/8\n",
      "191/191 [==============================] - 8s 41ms/step - loss: 0.2150 - accuracy: 0.9305 - recall: 0.9577 - precision: 0.8871 - val_loss: 0.1233 - val_accuracy: 0.9744 - val_recall: 1.0000 - val_precision: 0.9469\n",
      "Epoch 7/8\n",
      "191/191 [==============================] - 8s 42ms/step - loss: 0.1952 - accuracy: 0.9409 - recall: 0.9627 - precision: 0.9038 - val_loss: 0.1174 - val_accuracy: 0.9744 - val_recall: 1.0000 - val_precision: 0.9469\n",
      "Epoch 8/8\n",
      "191/191 [==============================] - 8s 42ms/step - loss: 0.1792 - accuracy: 0.9483 - recall: 0.9763 - precision: 0.9083 - val_loss: 0.1153 - val_accuracy: 0.9744 - val_recall: 1.0000 - val_precision: 0.9469\n"
     ]
    }
   ],
   "source": [
    "BATCH_SIZE = 32\n",
    "EPOCHS = 8\n",
    "\n",
    "# history\n",
    "LSTM_history = model_LSTM.fit(X_train, \n",
    "                              y_train, \n",
    "                              epochs=EPOCHS, \n",
    "                              batch_size=BATCH_SIZE,\n",
    "                              validation_data=(X_valid, y_valid))"
   ]
  },
  {
   "cell_type": "code",
   "execution_count": 33,
   "id": "f4255011",
   "metadata": {
    "_kg_hide-input": true,
    "execution": {
     "iopub.execute_input": "2022-09-07T18:20:46.505312Z",
     "iopub.status.busy": "2022-09-07T18:20:46.504935Z",
     "iopub.status.idle": "2022-09-07T18:20:47.604260Z",
     "shell.execute_reply": "2022-09-07T18:20:47.602937Z"
    },
    "jupyter": {
     "source_hidden": true
    },
    "papermill": {
     "duration": 1.17651,
     "end_time": "2022-09-07T18:20:47.607666",
     "exception": false,
     "start_time": "2022-09-07T18:20:46.431156",
     "status": "completed"
    },
    "tags": []
   },
   "outputs": [
    {
     "data": {
      "image/png": "[encoded data removed]",
      "text/plain": [
       "<Figure size 432x288 with 1 Axes>"
      ]
     },
     "metadata": {},
     "output_type": "display_data"
    },
    {
     "data": {
      "image/png": "[encoded data removed]",
      "text/plain": [
       "<Figure size 432x288 with 1 Axes>"
      ]
     },
     "metadata": {},
     "output_type": "display_data"
    },
    {
     "data": {
      "image/png": "[encoded data removed]",
      "text/plain": [
       "<Figure size 432x288 with 1 Axes>"
      ]
     },
     "metadata": {},
     "output_type": "display_data"
    },
    {
     "data": {
      "image/png": "[encoded data removed]",
      "text/plain": [
       "<Figure size 432x288 with 1 Axes>"
      ]
     },
     "metadata": {},
     "output_type": "display_data"
    }
   ],
   "source": [
    "# visualize\n",
    "# graph accuracy\n",
    "plt.plot(LSTM_history.history['accuracy'])\n",
    "plt.plot(LSTM_history.history['val_accuracy'])\n",
    "plt.title('LSTM Model Accuracy')\n",
    "plt.ylabel('accuracy')\n",
    "plt.xlabel('epoch')\n",
    "plt.legend(['train', 'validate'], loc='upper left')\n",
    "plt.show();\n",
    "\n",
    "# graph loss\n",
    "plt.plot(LSTM_history.history['loss'])\n",
    "plt.plot(LSTM_history.history['val_loss'])\n",
    "plt.title('LSTM Model Loss')\n",
    "plt.ylabel('loss')\n",
    "plt.xlabel('epoch')\n",
    "plt.legend(['train', 'validate'], loc='upper left')\n",
    "plt.show();\n",
    "\n",
    "# graph precision\n",
    "plt.plot(LSTM_history.history['precision'])\n",
    "plt.plot(LSTM_history.history['val_precision'])\n",
    "plt.title('LSTM Model Precision')\n",
    "plt.ylabel('Precision')\n",
    "plt.xlabel('epoch')\n",
    "plt.legend(['train', 'validate'], loc='upper left')\n",
    "plt.show();\n",
    "\n",
    "#graph recall\n",
    "plt.plot(LSTM_history.history['recall'])\n",
    "plt.plot(LSTM_history.history['val_recall'])\n",
    "plt.title('LSTM Model Recall')\n",
    "plt.ylabel('Recall')\n",
    "plt.xlabel('epoch')\n",
    "plt.legend(['train', 'validate'], loc='upper left')\n",
    "plt.show();"
   ]
  },
  {
   "cell_type": "code",
   "execution_count": 34,
   "id": "8c6dddeb",
   "metadata": {
    "execution": {
     "iopub.execute_input": "2022-09-07T18:20:47.757250Z",
     "iopub.status.busy": "2022-09-07T18:20:47.756490Z",
     "iopub.status.idle": "2022-09-07T18:20:48.222738Z",
     "shell.execute_reply": "2022-09-07T18:20:48.221412Z"
    },
    "papermill": {
     "duration": 0.54474,
     "end_time": "2022-09-07T18:20:48.225740",
     "exception": false,
     "start_time": "2022-09-07T18:20:47.681000",
     "status": "completed"
    },
    "tags": []
   },
   "outputs": [],
   "source": [
    "# predictions\n",
    "predictions_LSTM = model_LSTM.predict(y_valid)\n",
    "predictions_LSTM = np.transpose(predictions_LSTM)[0]\n",
    "ypred_LSTM = list(map(lambda x: 0 if x < 0.5 else 1, predictions_LSTM))"
   ]
  },
  {
   "cell_type": "code",
   "execution_count": 35,
   "id": "e7a81701",
   "metadata": {
    "_kg_hide-input": true,
    "execution": {
     "iopub.execute_input": "2022-09-07T18:20:48.372689Z",
     "iopub.status.busy": "2022-09-07T18:20:48.372291Z",
     "iopub.status.idle": "2022-09-07T18:20:48.384304Z",
     "shell.execute_reply": "2022-09-07T18:20:48.382714Z"
    },
    "jupyter": {
     "source_hidden": true
    },
    "papermill": {
     "duration": 0.088417,
     "end_time": "2022-09-07T18:20:48.387793",
     "exception": false,
     "start_time": "2022-09-07T18:20:48.299376",
     "status": "completed"
    },
    "tags": []
   },
   "outputs": [
    {
     "name": "stdout",
     "output_type": "stream",
     "text": [
      "Precision =  1.0\n",
      "Recall    =  1.0\n",
      "F1 Score  =  1.0\n"
     ]
    }
   ],
   "source": [
    "precision, recall, f1_score, support =  precision_recall_fscore_support(y_valid, ypred_LSTM, zero_division=1, average='micro')\n",
    "print('Precision = ', round(precision,5))\n",
    "print('Recall    = ', round(recall, 5))\n",
    "print('F1 Score  = ', round(f1_score, 5))"
   ]
  },
  {
   "cell_type": "code",
   "execution_count": 36,
   "id": "401fadba",
   "metadata": {
    "_kg_hide-input": true,
    "execution": {
     "iopub.execute_input": "2022-09-07T18:20:48.539199Z",
     "iopub.status.busy": "2022-09-07T18:20:48.538368Z",
     "iopub.status.idle": "2022-09-07T18:20:48.818668Z",
     "shell.execute_reply": "2022-09-07T18:20:48.817739Z"
    },
    "jupyter": {
     "source_hidden": true
    },
    "papermill": {
     "duration": 0.357523,
     "end_time": "2022-09-07T18:20:48.821062",
     "exception": false,
     "start_time": "2022-09-07T18:20:48.463539",
     "status": "completed"
    },
    "tags": []
   },
   "outputs": [
    {
     "data": {
      "image/png": "[encoded data removed]",
      "text/plain": [
       "<Figure size 432x288 with 2 Axes>"
      ]
     },
     "metadata": {},
     "output_type": "display_data"
    }
   ],
   "source": [
    "# confusion matrix\n",
    "confmat = confusion_matrix(y_valid, ypred_LSTM)\n",
    "\n",
    "display = ConfusionMatrixDisplay(confmat)\n",
    "display.plot(cmap='coolwarm');"
   ]
  },
  {
   "cell_type": "markdown",
   "id": "e5300d9f",
   "metadata": {
    "papermill": {
     "duration": 0.071447,
     "end_time": "2022-09-07T18:20:48.966280",
     "exception": false,
     "start_time": "2022-09-07T18:20:48.894833",
     "status": "completed"
    },
    "tags": []
   },
   "source": [
    "### **GRU MODEL**"
   ]
  },
  {
   "cell_type": "code",
   "execution_count": 37,
   "id": "f33d93f2",
   "metadata": {
    "execution": {
     "iopub.execute_input": "2022-09-07T18:20:49.115316Z",
     "iopub.status.busy": "2022-09-07T18:20:49.114846Z",
     "iopub.status.idle": "2022-09-07T18:20:49.563870Z",
     "shell.execute_reply": "2022-09-07T18:20:49.562031Z"
    },
    "papermill": {
     "duration": 0.526864,
     "end_time": "2022-09-07T18:20:49.566900",
     "exception": false,
     "start_time": "2022-09-07T18:20:49.040036",
     "status": "completed"
    },
    "tags": []
   },
   "outputs": [
    {
     "name": "stdout",
     "output_type": "stream",
     "text": [
      "Model: \"sequential_1\"\n",
      "_________________________________________________________________\n",
      "Layer (type)                 Output Shape              Param #   \n",
      "=================================================================\n",
      "embedding_1 (Embedding)      (None, 22, 22)            66000     \n",
      "_________________________________________________________________\n",
      "bidirectional (Bidirectional (None, 64)                10752     \n",
      "_________________________________________________________________\n",
      "dense_1 (Dense)              (None, 16)                1040      \n",
      "_________________________________________________________________\n",
      "dense_2 (Dense)              (None, 1)                 17        \n",
      "=================================================================\n",
      "Total params: 77,809\n",
      "Trainable params: 77,809\n",
      "Non-trainable params: 0\n",
      "_________________________________________________________________\n"
     ]
    }
   ],
   "source": [
    "#declare metrics for analysis during training\n",
    "recall = tf.keras.metrics.Recall()\n",
    "precision = tf.keras.metrics.Precision()\n",
    "\n",
    "with strategy.scope():\n",
    "\n",
    "# second model - GRU \n",
    "    model_GRU = Sequential()\n",
    "\n",
    "    model_GRU.add(Embedding(input_dim=MAX_FEATURES,\n",
    "                                 output_dim=22, \n",
    "                                 input_length=token_X.shape[1]))\n",
    "    model_GRU.add(Bidirectional(GRU(32)))\n",
    "    model_GRU.add(Dense(16, activation='relu'))\n",
    "    model_GRU.add(Dense(1, activation='sigmoid'))\n",
    "    \n",
    "    model_GRU.compile(loss='binary_crossentropy', \n",
    "                       optimizer=adam_optimizer, \n",
    "                       metrics=['accuracy', recall, precision])\n",
    "    model_GRU.summary()"
   ]
  },
  {
   "cell_type": "code",
   "execution_count": 38,
   "id": "2754b68f",
   "metadata": {
    "execution": {
     "iopub.execute_input": "2022-09-07T18:20:49.716194Z",
     "iopub.status.busy": "2022-09-07T18:20:49.714637Z",
     "iopub.status.idle": "2022-09-07T18:21:39.620795Z",
     "shell.execute_reply": "2022-09-07T18:21:39.619087Z"
    },
    "papermill": {
     "duration": 49.983067,
     "end_time": "2022-09-07T18:21:39.623687",
     "exception": false,
     "start_time": "2022-09-07T18:20:49.640620",
     "status": "completed"
    },
    "tags": []
   },
   "outputs": [
    {
     "name": "stdout",
     "output_type": "stream",
     "text": [
      "Epoch 1/4\n",
      "191/191 [==============================] - 18s 65ms/step - loss: 0.4804 - accuracy: 0.8182 - recall_1: 0.6052 - precision_1: 0.9454 - val_loss: 0.1460 - val_accuracy: 1.0000 - val_recall_1: 1.0000 - val_precision_1: 1.0000\n",
      "Epoch 2/4\n",
      "191/191 [==============================] - 11s 56ms/step - loss: 0.0453 - accuracy: 1.0000 - recall_1: 1.0000 - precision_1: 1.0000 - val_loss: 0.0150 - val_accuracy: 1.0000 - val_recall_1: 1.0000 - val_precision_1: 1.0000\n",
      "Epoch 3/4\n",
      "191/191 [==============================] - 11s 55ms/step - loss: 0.0090 - accuracy: 1.0000 - recall_1: 1.0000 - precision_1: 1.0000 - val_loss: 0.0060 - val_accuracy: 1.0000 - val_recall_1: 1.0000 - val_precision_1: 1.0000\n",
      "Epoch 4/4\n",
      "191/191 [==============================] - 11s 57ms/step - loss: 0.0042 - accuracy: 1.0000 - recall_1: 1.0000 - precision_1: 1.0000 - val_loss: 0.0033 - val_accuracy: 1.0000 - val_recall_1: 1.0000 - val_precision_1: 1.0000\n"
     ]
    }
   ],
   "source": [
    "# history\n",
    "BATCH_SIZE = 32\n",
    "EPOCHS = 4\n",
    "\n",
    "# history\n",
    "GRU_history = model_GRU.fit(X_train, \n",
    "                              y_train, \n",
    "                              epochs=EPOCHS, \n",
    "                              batch_size=BATCH_SIZE,\n",
    "                              validation_data=(X_valid, y_valid))"
   ]
  },
  {
   "cell_type": "code",
   "execution_count": 39,
   "id": "0e29c71e",
   "metadata": {
    "_kg_hide-input": true,
    "execution": {
     "iopub.execute_input": "2022-09-07T18:21:39.920475Z",
     "iopub.status.busy": "2022-09-07T18:21:39.920064Z",
     "iopub.status.idle": "2022-09-07T18:21:41.237975Z",
     "shell.execute_reply": "2022-09-07T18:21:41.236970Z"
    },
    "jupyter": {
     "source_hidden": true
    },
    "papermill": {
     "duration": 1.432749,
     "end_time": "2022-09-07T18:21:41.240454",
     "exception": false,
     "start_time": "2022-09-07T18:21:39.807705",
     "status": "completed"
    },
    "tags": []
   },
   "outputs": [
    {
     "data": {
      "image/png": "[encoded data removed]",
      "text/plain": [
       "<Figure size 432x288 with 1 Axes>"
      ]
     },
     "metadata": {},
     "output_type": "display_data"
    },
    {
     "data": {
      "image/png": "[encoded data removed]",
      "text/plain": [
       "<Figure size 432x288 with 1 Axes>"
      ]
     },
     "metadata": {},
     "output_type": "display_data"
    },
    {
     "data": {
      "image/png": "[encoded data removed]",
      "text/plain": [
       "<Figure size 432x288 with 1 Axes>"
      ]
     },
     "metadata": {},
     "output_type": "display_data"
    },
    {
     "data": {
      "image/png": "[encoded data removed]",
      "text/plain": [
       "<Figure size 432x288 with 1 Axes>"
      ]
     },
     "metadata": {},
     "output_type": "display_data"
    }
   ],
   "source": [
    "# visualize\n",
    "# graph accuracy\n",
    "plt.plot(GRU_history.history['accuracy'])\n",
    "plt.plot(GRU_history.history['val_accuracy'])\n",
    "plt.title('GRU Model Accuracy')\n",
    "plt.ylabel('accuracy')\n",
    "plt.xlabel('epoch')\n",
    "plt.legend(['train', 'validate'], loc='upper left')\n",
    "plt.show();\n",
    "\n",
    "# graph loss\n",
    "plt.plot(GRU_history.history['loss'])\n",
    "plt.plot(GRU_history.history['val_loss'])\n",
    "plt.title('GRU Model Loss')\n",
    "plt.ylabel('loss')\n",
    "plt.xlabel('epoch')\n",
    "plt.legend(['train', 'validate'], loc='upper left')\n",
    "plt.show();\n",
    "\n",
    "# graph precision\n",
    "plt.plot(GRU_history.history['precision_1'])\n",
    "plt.plot(GRU_history.history['val_precision_1'])\n",
    "plt.title('GRU Model Precision')\n",
    "plt.ylabel('Precision')\n",
    "plt.xlabel('epoch')\n",
    "plt.legend(['train', 'validate'], loc='upper left')\n",
    "plt.show();\n",
    "\n",
    "#graph recall\n",
    "plt.plot(GRU_history.history['recall_1'])\n",
    "plt.plot(GRU_history.history['val_recall_1'])\n",
    "plt.title('GRU Model Recall')\n",
    "plt.ylabel('Recall')\n",
    "plt.xlabel('epoch')\n",
    "plt.legend(['train', 'validate'], loc='upper left')\n",
    "plt.show();"
   ]
  },
  {
   "cell_type": "code",
   "execution_count": 40,
   "id": "ec861873",
   "metadata": {
    "execution": {
     "iopub.execute_input": "2022-09-07T18:21:41.464063Z",
     "iopub.status.busy": "2022-09-07T18:21:41.462884Z",
     "iopub.status.idle": "2022-09-07T18:21:42.432150Z",
     "shell.execute_reply": "2022-09-07T18:21:42.430965Z"
    },
    "papermill": {
     "duration": 1.083178,
     "end_time": "2022-09-07T18:21:42.435243",
     "exception": false,
     "start_time": "2022-09-07T18:21:41.352065",
     "status": "completed"
    },
    "tags": []
   },
   "outputs": [],
   "source": [
    "# predictions\n",
    "predictions_GRU = model_GRU.predict(y_valid)\n",
    "ypred_GRU = []\n",
    "ypred_GRU = list(map(lambda x: 0 if x < 0.5 else 1, predictions_GRU))"
   ]
  },
  {
   "cell_type": "code",
   "execution_count": 41,
   "id": "51b42a75",
   "metadata": {
    "_kg_hide-input": true,
    "execution": {
     "iopub.execute_input": "2022-09-07T18:21:42.662893Z",
     "iopub.status.busy": "2022-09-07T18:21:42.662026Z",
     "iopub.status.idle": "2022-09-07T18:21:42.672833Z",
     "shell.execute_reply": "2022-09-07T18:21:42.671580Z"
    },
    "jupyter": {
     "source_hidden": true
    },
    "papermill": {
     "duration": 0.129729,
     "end_time": "2022-09-07T18:21:42.675276",
     "exception": false,
     "start_time": "2022-09-07T18:21:42.545547",
     "status": "completed"
    },
    "tags": []
   },
   "outputs": [
    {
     "name": "stdout",
     "output_type": "stream",
     "text": [
      "Precision =  1.0\n",
      "Recall    =  1.0\n",
      "F1 Score  =  1.0\n"
     ]
    }
   ],
   "source": [
    "precision, recall, f1_score, support =  precision_recall_fscore_support(y_valid, ypred_GRU, zero_division=1, average='micro')\n",
    "print('Precision = ', round(precision,5))\n",
    "print('Recall    = ', round(recall, 5))\n",
    "print('F1 Score  = ', round(f1_score, 5))"
   ]
  },
  {
   "cell_type": "code",
   "execution_count": 42,
   "id": "f19de298",
   "metadata": {
    "_kg_hide-input": true,
    "execution": {
     "iopub.execute_input": "2022-09-07T18:21:42.897436Z",
     "iopub.status.busy": "2022-09-07T18:21:42.896812Z",
     "iopub.status.idle": "2022-09-07T18:21:43.176327Z",
     "shell.execute_reply": "2022-09-07T18:21:43.175486Z"
    },
    "jupyter": {
     "source_hidden": true
    },
    "papermill": {
     "duration": 0.393904,
     "end_time": "2022-09-07T18:21:43.178744",
     "exception": false,
     "start_time": "2022-09-07T18:21:42.784840",
     "status": "completed"
    },
    "tags": []
   },
   "outputs": [
    {
     "data": {
      "image/png": "[encoded data removed]",
      "text/plain": [
       "<Figure size 432x288 with 2 Axes>"
      ]
     },
     "metadata": {},
     "output_type": "display_data"
    }
   ],
   "source": [
    "# confusion matrix\n",
    "confmat = confusion_matrix(y_valid, ypred_GRU)\n",
    "\n",
    "display = ConfusionMatrixDisplay(confmat)\n",
    "display.plot(cmap='coolwarm');"
   ]
  },
  {
   "cell_type": "markdown",
   "id": "30ca44b5",
   "metadata": {
    "papermill": {
     "duration": 0.11201,
     "end_time": "2022-09-07T18:21:43.403151",
     "exception": false,
     "start_time": "2022-09-07T18:21:43.291141",
     "status": "completed"
    },
    "tags": []
   },
   "source": [
    "We can see both of the models needed very few epochs to converge (or get very close to converging). We played around with the number of epochs before settling on the above numbers. We see that the LSTM model took longer to get high metrics (and low loss) compared to the GRU model. Both models are suggesting great results when testing on the validation set. We can see in the plots how each model seemed to do during training."
   ]
  },
  {
   "cell_type": "markdown",
   "id": "4d08cbbc",
   "metadata": {
    "papermill": {
     "duration": 0.11045,
     "end_time": "2022-09-07T18:21:43.622837",
     "exception": false,
     "start_time": "2022-09-07T18:21:43.512387",
     "status": "completed"
    },
    "tags": []
   },
   "source": [
    "# 4. Results and Analysis\n",
    "\n",
    "The first step when testing on the test data (which is unseen and untouched so far) is to actually perform the same preprocessing techniques on it as we did to the training data. This will include: \n",
    "1. Delete ‘location column’\n",
    "2. Remove URLs, HTMLs, and tags\n",
    "3. Count the number of punctuations present and delete them\n",
    "4. Lowercase all words\n",
    "5. Lemmatize words\n",
    "6. Declare if numbers appear and delete them\n",
    "7. Tokenize text\n",
    "\n",
    "After we preprocess the test data, we can then run each model and submit its predictions to the competition. This had to be done separately but we can see how the models performed in the screenshot below. "
   ]
  },
  {
   "cell_type": "code",
   "execution_count": 43,
   "id": "ab2536ec",
   "metadata": {
    "execution": {
     "iopub.execute_input": "2022-09-07T18:21:43.847710Z",
     "iopub.status.busy": "2022-09-07T18:21:43.846983Z",
     "iopub.status.idle": "2022-09-07T18:21:44.380811Z",
     "shell.execute_reply": "2022-09-07T18:21:44.379372Z"
    },
    "papermill": {
     "duration": 0.648231,
     "end_time": "2022-09-07T18:21:44.383802",
     "exception": false,
     "start_time": "2022-09-07T18:21:43.735571",
     "status": "completed"
    },
    "tags": []
   },
   "outputs": [],
   "source": [
    "#test set preprocessing\n",
    "test_df = pd.read_csv('../input/nlp-getting-started/test.csv')\n",
    "\n",
    "test_df = test_df.drop('location', axis=1)\n",
    "test_df = test_df.drop(['keyword'], axis=1)\n",
    "\n",
    "functions = [remove_urls, remove_html, remove_tags, count_punctuation, lower_case, preprocess_text]\n",
    "for func in functions: \n",
    "    if func == count_punctuation:\n",
    "        test_df['punctuation_count'] = test_df['text'].apply(func)\n",
    "    else:\n",
    "        test_df['text'] = test_df['text'].apply(func) \n",
    "\n",
    "test_df['numbers'] = test_df['text'].apply(get_numbers)\n",
    "\n",
    "test_df['text'] = test_df['text'].apply(remove_digits)\n",
    "\n",
    "test_token_X = tokenizer.texts_to_sequences(test_df['text'].values)\n",
    "test_token_X = pad_sequences(test_token_X)\n",
    "test_token_df = pd.DataFrame(test_token_X)\n",
    "for col_id in range(test_token_X.shape[1]):\n",
    "    test_df[str(col_id)] = test_token_df[col_id]\n",
    "    \n",
    "test_df = test_df.drop(['text'], axis=1)"
   ]
  },
  {
   "cell_type": "code",
   "execution_count": 44,
   "id": "00941932",
   "metadata": {
    "execution": {
     "iopub.execute_input": "2022-09-07T18:21:44.604772Z",
     "iopub.status.busy": "2022-09-07T18:21:44.604044Z",
     "iopub.status.idle": "2022-09-07T18:21:45.911307Z",
     "shell.execute_reply": "2022-09-07T18:21:45.910112Z"
    },
    "papermill": {
     "duration": 1.421309,
     "end_time": "2022-09-07T18:21:45.914297",
     "exception": false,
     "start_time": "2022-09-07T18:21:44.492988",
     "status": "completed"
    },
    "tags": []
   },
   "outputs": [],
   "source": [
    "test_preds = model_LSTM.predict(test_df.loc[:, test_df.columns != 'id'])\n",
    "# test_preds = model_GRU.predict(test_df.loc[:, test_df.columns != 'id'])"
   ]
  },
  {
   "cell_type": "code",
   "execution_count": 45,
   "id": "ac585da2",
   "metadata": {
    "execution": {
     "iopub.execute_input": "2022-09-07T18:21:46.142170Z",
     "iopub.status.busy": "2022-09-07T18:21:46.141416Z",
     "iopub.status.idle": "2022-09-07T18:21:46.153378Z",
     "shell.execute_reply": "2022-09-07T18:21:46.152501Z"
    },
    "papermill": {
     "duration": 0.130191,
     "end_time": "2022-09-07T18:21:46.156109",
     "exception": false,
     "start_time": "2022-09-07T18:21:46.025918",
     "status": "completed"
    },
    "tags": []
   },
   "outputs": [],
   "source": [
    "ypreds_test = np.transpose(test_preds)[0]\n",
    "ypreds_test = list(map(lambda x: 0 if x < 0.5 else 1, test_preds))\n",
    "\n",
    "#convert to dataframe with ids\n",
    "submission = pd.DataFrame({'id':test_df['id'], 'target':ypreds_test})"
   ]
  },
  {
   "cell_type": "code",
   "execution_count": 46,
   "id": "859b3f8b",
   "metadata": {
    "execution": {
     "iopub.execute_input": "2022-09-07T18:21:46.380701Z",
     "iopub.status.busy": "2022-09-07T18:21:46.379914Z",
     "iopub.status.idle": "2022-09-07T18:21:46.391896Z",
     "shell.execute_reply": "2022-09-07T18:21:46.390440Z"
    },
    "papermill": {
     "duration": 0.126901,
     "end_time": "2022-09-07T18:21:46.394809",
     "exception": false,
     "start_time": "2022-09-07T18:21:46.267908",
     "status": "completed"
    },
    "tags": []
   },
   "outputs": [],
   "source": [
    "# submit model\n",
    "submission.to_csv('submission.csv', index=False)"
   ]
  },
  {
   "attachments": {
    "2c1ddfbc-6d27-4254-a5a0-e1ae9857edc6.jpg": {
     "image/jpeg": "[encoded data removed]"
    }
   },
   "cell_type": "markdown",
   "id": "affda17a",
   "metadata": {
    "papermill": {
     "duration": 0.111071,
     "end_time": "2022-09-07T18:21:46.617665",
     "exception": false,
     "start_time": "2022-09-07T18:21:46.506594",
     "status": "completed"
    },
    "tags": []
   },
   "source": [
    "The first model using LSTM techniques got an F1 score of 0.57554, which is better than the GRU model which got an F1 score of 0.5378 on the test set. These values are a bit better than randomly guessing.\n",
    "\n",
    "![Screen Shot 2022-09-07 at 14.57.13.jpg](attachment:2c1ddfbc-6d27-4254-a5a0-e1ae9857edc6.jpg)\n",
    "\n",
    "It is a little disappointing how our models performed. There are a few reasons as to why this could be:\n",
    "1. Our model(s) were too simple for the data presented\n",
    "2. Our cleaning was not the best for this data\n",
    "3. Our model(s) were overfitting to the training data so therefore did not generalize well to new data. \n",
    "4. The model(s) were not the right model for the project\n",
    "5. Not enough data to train with\n",
    "\n",
    "There are many more reasons as to why our model performed a bit better than randomly guessing however, the suspicion is that our models were too simple *and* were overfitted. "
   ]
  },
  {
   "cell_type": "markdown",
   "id": "ae22105f",
   "metadata": {
    "papermill": {
     "duration": 0.111267,
     "end_time": "2022-09-07T18:21:46.843217",
     "exception": false,
     "start_time": "2022-09-07T18:21:46.731950",
     "status": "completed"
    },
    "tags": []
   },
   "source": [
    "# 5. Conclusion\n",
    "\n",
    "In this conclusion we will summarize the notebook procedure and results.\n",
    "\n",
    "First we imported the data and got a good sense of what the training data looks like before we cleaned it. We also visualized much of the data too. Then we preprocessed the training data by counting punctuation, number appearance and modifying the text by making it easier for a computer to understand (see section 2. EDA above). After we had the training data ready, we split the training data into two subsets - training and validation - so that we could better train our models. Then we trained two models - LSTM and GRU - which we described in detail above by describing their hyperparameters, structure, and optimizers. Finally, we tested both models on the testing set and found our F1 score in the Kaggle competition page. \n",
    "\n",
    "Overall, the models performed less than we had hoped. However, these two models were both very simple and probably were overfitting to the training data. Based on the graphs showing the different metrics per epoch used in each model, we thought we had a good idea of how the models would perform; they seemed to be doing well! This is a good insight into future models and up-coming data scientist: just because the training and validation data seem to perform well does not necessarily mean your model is a good fit for any new data. Our models are a good example of this. Perhaps we could have gotten better results with more data, different text cleaning methods, fewer epochs (to prevent overfitting), or even differently structured models. "
   ]
  },
  {
   "cell_type": "markdown",
   "id": "582dfd73",
   "metadata": {
    "papermill": {
     "duration": 0.119282,
     "end_time": "2022-09-07T18:21:47.072790",
     "exception": false,
     "start_time": "2022-09-07T18:21:46.953508",
     "status": "completed"
    },
    "tags": []
   },
   "source": [
    "-- END --"
   ]
  }
 ],
 "metadata": {
  "kernelspec": {
   "display_name": "Python 3",
   "language": "python",
   "name": "python3"
  },
  "language_info": {
   "codemirror_mode": {
    "name": "ipython",
    "version": 3
   },
   "file_extension": ".py",
   "mimetype": "text/x-python",
   "name": "python",
   "nbconvert_exporter": "python",
   "pygments_lexer": "ipython3",
   "version": "3.7.12"
  },
  "papermill": {
   "default_parameters": {},
   "duration": 192.357572,
   "end_time": "2022-09-07T18:21:50.657669",
   "environment_variables": {},
   "exception": null,
   "input_path": "__notebook__.ipynb",
   "output_path": "__notebook__.ipynb",
   "parameters": {},
   "start_time": "2022-09-07T18:18:38.300097",
   "version": "2.3.4"
  }
 },
 "nbformat": 4,
 "nbformat_minor": 5
}
